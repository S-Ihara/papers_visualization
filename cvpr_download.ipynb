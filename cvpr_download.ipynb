{
 "cells": [
  {
   "cell_type": "code",
   "execution_count": 1,
   "metadata": {},
   "outputs": [],
   "source": [
    "from pathlib import Path\n",
    "import numpy as np\n",
    "import pandas as pd\n",
    "from selenium import webdriver  \n",
    "from selenium.webdriver.common.by import By"
   ]
  },
  {
   "cell_type": "code",
   "execution_count": 2,
   "metadata": {},
   "outputs": [],
   "source": []
  },
  {
   "cell_type": "code",
   "execution_count": 3,
   "metadata": {},
   "outputs": [],
   "source": [
    "conference = 'cvpr'\n",
    "year = 2023\n",
    "\n",
    "conference_url = f\"https://openaccess.thecvf.com/CVPR{year}?day=all\"\n",
    "chromedriver_path = '/usr/bin/chromedriver' \n",
    "data_path = Path(\"./papers_info\")"
   ]
  },
  {
   "cell_type": "code",
   "execution_count": 8,
   "metadata": {},
   "outputs": [],
   "source": [
    "options = webdriver.ChromeOptions()\n",
    "options.add_argument(\"--headless\")\n",
    "options.add_argument('--disable-dev-shm-usage')\n",
    "options.add_argument(\"--no-sandbox\")\n",
    "\n",
    "driver = webdriver.Chrome(\n",
    "    options=options\n",
    ")"
   ]
  },
  {
   "cell_type": "code",
   "execution_count": 9,
   "metadata": {},
   "outputs": [],
   "source": [
    "driver.get(conference_url)"
   ]
  },
  {
   "cell_type": "code",
   "execution_count": 32,
   "metadata": {},
   "outputs": [],
   "source": [
    "title_element_list = driver.find_elements(By.CLASS_NAME, 'ptitle')\n",
    "\n",
    "titles = []\n",
    "absts = []\n",
    "paper_links = []\n",
    "\n",
    "for element in title_element_list:\n",
    "    paper_links.append(element.find_element(By.TAG_NAME, 'a').get_attribute('href'))\n",
    "\n",
    "for i,element in enumerate(title_element_list):\n",
    "    driver.get(paper_links[i])\n",
    "    title = driver.find_element(By.ID, 'papertitle').text\n",
    "    abst = driver.find_element(By.ID, 'abstract').text\n",
    "    titles.append(title)\n",
    "    absts.append(abst)"
   ]
  },
  {
   "cell_type": "code",
   "execution_count": null,
   "metadata": {},
   "outputs": [],
   "source": [
    "driver.quit()"
   ]
  },
  {
   "cell_type": "code",
   "execution_count": null,
   "metadata": {},
   "outputs": [],
   "source": [
    "cvpr = pd.DataFrame.from_dict({\n",
    "    'year': year,\n",
    "    'title': titles, \n",
    "    'abstract': absts,\n",
    "})"
   ]
  },
  {
   "cell_type": "code",
   "execution_count": null,
   "metadata": {},
   "outputs": [],
   "source": [
    "mask = np.array([len(a) >= 200 for a in cvpr.abstract])\n",
    "cvpr = cvpr[mask].reset_index(drop=True)\n",
    "print(f'Removing {np.sum(~mask)} submissions with abstract length below 200 characters.')"
   ]
  },
  {
   "cell_type": "code",
   "execution_count": null,
   "metadata": {},
   "outputs": [],
   "source": [
    "cvpr.to_pickle(data_path / f'{conference}_{year}.pickle.zip')"
   ]
  },
  {
   "cell_type": "code",
   "execution_count": null,
   "metadata": {},
   "outputs": [],
   "source": []
  },
  {
   "cell_type": "code",
   "execution_count": null,
   "metadata": {},
   "outputs": [],
   "source": []
  }
 ],
 "metadata": {
  "kernelspec": {
   "display_name": "te",
   "language": "python",
   "name": "python3"
  },
  "language_info": {
   "codemirror_mode": {
    "name": "ipython",
    "version": 3
   },
   "file_extension": ".py",
   "mimetype": "text/x-python",
   "name": "python",
   "nbconvert_exporter": "python",
   "pygments_lexer": "ipython3",
   "version": "3.7.13"
  },
  "orig_nbformat": 4
 },
 "nbformat": 4,
 "nbformat_minor": 2
}
