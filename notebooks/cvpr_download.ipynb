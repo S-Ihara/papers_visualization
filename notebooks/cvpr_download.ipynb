{
 "cells": [
  {
   "cell_type": "code",
   "execution_count": 1,
   "metadata": {},
   "outputs": [],
   "source": [
    "from pathlib import Path\n",
    "import numpy as np\n",
    "import pandas as pd\n",
    "from selenium import webdriver  \n",
    "from selenium.webdriver.common.by import By"
   ]
  },
  {
   "cell_type": "code",
   "execution_count": null,
   "metadata": {},
   "outputs": [],
   "source": [
    "# 2020以下の年はall pageがない"
   ]
  },
  {
   "cell_type": "code",
   "execution_count": 80,
   "metadata": {},
   "outputs": [],
   "source": [
    "conference = 'cvpr'\n",
    "year = 2020\n",
    "\n",
    "conference_url = f\"https://openaccess.thecvf.com/CVPR{year}?day=all\"\n",
    "chromedriver_path = '/usr/bin/chromedriver'\n",
    "data_path = Path(\"../papers_info\")"
   ]
  },
  {
   "cell_type": "code",
   "execution_count": 81,
   "metadata": {},
   "outputs": [],
   "source": [
    "options = webdriver.ChromeOptions()\n",
    "options.add_argument(\"--headless\")\n",
    "options.add_argument('--disable-dev-shm-usage')\n",
    "options.add_argument(\"--no-sandbox\")\n",
    "\n",
    "driver = webdriver.Chrome(\n",
    "    options=options\n",
    ")"
   ]
  },
  {
   "cell_type": "code",
   "execution_count": 82,
   "metadata": {},
   "outputs": [],
   "source": [
    "driver.get(conference_url)"
   ]
  },
  {
   "cell_type": "code",
   "execution_count": 83,
   "metadata": {},
   "outputs": [],
   "source": [
    "title_element_list = driver.find_elements(By.CLASS_NAME, 'ptitle')\n",
    "\n",
    "titles = []\n",
    "absts = []\n",
    "paper_links = []\n",
    "\n",
    "for element in title_element_list:\n",
    "    paper_links.append(element.find_element(By.TAG_NAME, 'a').get_attribute('href'))\n",
    "\n",
    "for i,element in enumerate(title_element_list):\n",
    "    driver.get(paper_links[i])\n",
    "    # if Not Found page is shown, skip\n",
    "    if driver.find_element(By.TAG_NAME, 'body').text[:9] == 'Not Found':\n",
    "        continue\n",
    "\n",
    "    title = driver.find_element(By.ID, 'papertitle').text\n",
    "    abst = driver.find_element(By.ID, 'abstract').text\n",
    "    titles.append(title)\n",
    "    absts.append(abst)"
   ]
  },
  {
   "cell_type": "code",
   "execution_count": 84,
   "metadata": {},
   "outputs": [],
   "source": [
    "#driver.current_url\n",
    "#driver.find_element(By.TAG_NAME, 'h1').text == 'Not Found'\n",
    "#driver.find_element(By.TAG_NAME, 'body').text[:9]"
   ]
  },
  {
   "cell_type": "code",
   "execution_count": null,
   "metadata": {},
   "outputs": [],
   "source": []
  },
  {
   "cell_type": "code",
   "execution_count": 85,
   "metadata": {},
   "outputs": [
    {
     "name": "stdout",
     "output_type": "stream",
     "text": [
      "0 papers are found.\n",
      "0 papers are downloaded.\n"
     ]
    }
   ],
   "source": [
    "print(f\"{len(title_element_list)} papers are found.\")\n",
    "print(f\"{len(titles)} papers are downloaded.\")"
   ]
  },
  {
   "cell_type": "code",
   "execution_count": 86,
   "metadata": {},
   "outputs": [],
   "source": [
    "driver.quit()"
   ]
  },
  {
   "cell_type": "code",
   "execution_count": 87,
   "metadata": {},
   "outputs": [],
   "source": [
    "cvpr = pd.DataFrame.from_dict({\n",
    "    'year': year,\n",
    "    'title': titles, \n",
    "    'abstract': absts,\n",
    "    'conference': conference,\n",
    "})"
   ]
  },
  {
   "cell_type": "code",
   "execution_count": 88,
   "metadata": {},
   "outputs": [
    {
     "ename": "TypeError",
     "evalue": "ufunc 'invert' not supported for the input types, and the inputs could not be safely coerced to any supported types according to the casting rule ''safe''",
     "output_type": "error",
     "traceback": [
      "\u001b[0;31m---------------------------------------------------------------------------\u001b[0m",
      "\u001b[0;31mTypeError\u001b[0m                                 Traceback (most recent call last)",
      "Cell \u001b[0;32mIn[88], line 3\u001b[0m\n\u001b[1;32m      1\u001b[0m mask \u001b[39m=\u001b[39m np\u001b[39m.\u001b[39marray([\u001b[39mlen\u001b[39m(a) \u001b[39m>\u001b[39m\u001b[39m=\u001b[39m \u001b[39m200\u001b[39m \u001b[39mfor\u001b[39;00m a \u001b[39min\u001b[39;00m cvpr\u001b[39m.\u001b[39mabstract])\n\u001b[1;32m      2\u001b[0m cvpr \u001b[39m=\u001b[39m cvpr[mask]\u001b[39m.\u001b[39mreset_index(drop\u001b[39m=\u001b[39m\u001b[39mTrue\u001b[39;00m)\n\u001b[0;32m----> 3\u001b[0m \u001b[39mprint\u001b[39m(\u001b[39mf\u001b[39m\u001b[39m'\u001b[39m\u001b[39mRemoving \u001b[39m\u001b[39m{\u001b[39;00mnp\u001b[39m.\u001b[39msum(\u001b[39m~\u001b[39;49mmask)\u001b[39m}\u001b[39;00m\u001b[39m submissions with abstract length below 200 characters.\u001b[39m\u001b[39m'\u001b[39m)\n",
      "\u001b[0;31mTypeError\u001b[0m: ufunc 'invert' not supported for the input types, and the inputs could not be safely coerced to any supported types according to the casting rule ''safe''"
     ]
    }
   ],
   "source": [
    "mask = np.array([len(a) >= 200 for a in cvpr.abstract])\n",
    "cvpr = cvpr[mask].reset_index(drop=True)\n",
    "print(f'Removing {np.sum(~mask)} submissions with abstract length below 200 characters.')"
   ]
  },
  {
   "cell_type": "code",
   "execution_count": null,
   "metadata": {},
   "outputs": [],
   "source": [
    "cvpr.to_pickle(data_path / f'{conference}_{year}.pickle.zip')"
   ]
  },
  {
   "cell_type": "code",
   "execution_count": null,
   "metadata": {},
   "outputs": [],
   "source": []
  },
  {
   "cell_type": "code",
   "execution_count": null,
   "metadata": {},
   "outputs": [],
   "source": []
  },
  {
   "cell_type": "code",
   "execution_count": null,
   "metadata": {},
   "outputs": [],
   "source": []
  },
  {
   "cell_type": "code",
   "execution_count": null,
   "metadata": {},
   "outputs": [],
   "source": []
  }
 ],
 "metadata": {
  "kernelspec": {
   "display_name": "te",
   "language": "python",
   "name": "python3"
  },
  "language_info": {
   "codemirror_mode": {
    "name": "ipython",
    "version": 3
   },
   "file_extension": ".py",
   "mimetype": "text/x-python",
   "name": "python",
   "nbconvert_exporter": "python",
   "pygments_lexer": "ipython3",
   "version": "3.11.3"
  },
  "orig_nbformat": 4
 },
 "nbformat": 4,
 "nbformat_minor": 2
}
