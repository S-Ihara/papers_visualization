{
 "cells": [
  {
   "cell_type": "code",
   "execution_count": 1,
   "metadata": {},
   "outputs": [],
   "source": [
    "from pathlib import Path\n",
    "import requests\n",
    "import os\n",
    "import pandas as pd\n",
    "import numpy as np\n",
    "from tqdm.notebook import tqdm"
   ]
  },
  {
   "cell_type": "code",
   "execution_count": 2,
   "metadata": {},
   "outputs": [],
   "source": [
    "conference = \"iclr\"\n",
    "year = 2023\n",
    "\n",
    "data_path = Path(\"../papers_info\")\n",
    "if not os.path.exists(data_path):\n",
    "    os.mkdir(data_path)"
   ]
  },
  {
   "cell_type": "code",
   "execution_count": 3,
   "metadata": {},
   "outputs": [
    {
     "name": "stdout",
     "output_type": "stream",
     "text": [
      "\n",
      "Found 4955 papers\n",
      "Removing 0 submissions with abstract length below 200 characters.\n",
      "CPU times: user 1.1 s, sys: 129 ms, total: 1.23 s\n",
      "Wall time: 20.1 s\n"
     ]
    }
   ],
   "source": [
    "%%time\n",
    "titles = []\n",
    "abstracts = []\n",
    "years = []\n",
    "forum_ids = []\n",
    "decisions = []\n",
    "authors = []\n",
    "keywords = []\n",
    "\n",
    "#for year in [2018, 2019, 2020, 2021, 2022, 2023]:\n",
    "for year in [2023]:\n",
    "    for query in ['Blind_Submission', 'Withdrawn_Submission', 'Desk_Rejected_Submission']:\n",
    "        url = f'https://api.openreview.net/notes?invitation=ICLR.cc%2F{year}%2FConference%2F-%2F{query}'\n",
    "    \n",
    "        for offset in [0, 1000, 2000, 3000, 4000]:\n",
    "            df = pd.DataFrame(requests.get(url + f'&offset={offset}').json()['notes'])\n",
    "            if len(df) > 0:\n",
    "                titles    += [d['title'].strip() for d in df['content'].values]\n",
    "                abstracts += [d['abstract'].strip() for d in df['content'].values]\n",
    "                keywords  += [d['keywords'] for d in df['content'].values]\n",
    "                authors   += [', '.join(d['authors']) for d in df['content']]\n",
    "                years     += [year] * len(df)\n",
    "                forum_ids += list(df.forum)\n",
    "                                                \n",
    "                if query == 'Withdrawn_Submission':\n",
    "                    decisions += ['Withdrawn'] * len(df)\n",
    "                elif query == 'Desk_Rejected_Submission':\n",
    "                    decisions += ['Desk rejected'] * len(df)\n",
    "                else:\n",
    "                    decisions += [''] * len(df)\n",
    "print('')\n",
    "print(f'Found {len(titles)} papers')\n",
    "\n",
    "iclr = pd.DataFrame.from_dict({\n",
    "    'year': np.array(years).astype(int), \n",
    "    'id': forum_ids, \n",
    "    'title': titles, \n",
    "    'abstract': abstracts,\n",
    "    'authors': authors,\n",
    "    'decision': decisions,\n",
    "    'scores': [[]] * len(abstracts),\n",
    "    'keywords': [[kk.lower() for kk in k] for k in keywords],\n",
    "    'conference': conference,\n",
    "})\n",
    "\n",
    "mask = np.array([len(a) >= 200 for a in iclr.abstract])\n",
    "iclr = iclr[mask].reset_index(drop=True)\n",
    "print(f'Removing {np.sum(~mask)} submissions with abstract length below 200 characters.')\n",
    "\n",
    "iclr.to_pickle(data_path / f'{conference}_{year}.pickle.zip')"
   ]
  },
  {
   "cell_type": "code",
   "execution_count": 4,
   "metadata": {},
   "outputs": [
    {
     "data": {
      "application/vnd.jupyter.widget-view+json": {
       "model_id": "827770f3164f477c81fcb4d1be0b3b0c",
       "version_major": 2,
       "version_minor": 0
      },
      "text/plain": [
       "  0%|          | 0/4955 [00:00<?, ?it/s]"
      ]
     },
     "metadata": {},
     "output_type": "display_data"
    },
    {
     "name": "stdout",
     "output_type": "stream",
     "text": [
      "\n",
      "CPU times: user 2min 20s, sys: 13.7 s, total: 2min 34s\n",
      "Wall time: 55min\n"
     ]
    }
   ],
   "source": [
    "%%time\n",
    "# Query the accept/reject decisions and scores. Warning: TAKES A COUPLE OF HOURS\n",
    "\n",
    "for num, forum_id in enumerate(tqdm(iclr.id)): \n",
    "    forum_url = f'https://api.openreview.net/notes?forum={forum_id}'\n",
    "    json = requests.get(forum_url).json()\n",
    "\n",
    "    if iclr.decision[num] == '':\n",
    "        for i in range(len(json['notes'])):\n",
    "            if 'decision' in json['notes'][i]['content']:\n",
    "                decision = json['notes'][i]['content']['decision']\n",
    "        iclr.at[num, 'decision'] = decision\n",
    "        \n",
    "    if iclr.decision[num] != 'Desk rejected':\n",
    "        scores = []\n",
    "        for i in range(len(json['notes'])):\n",
    "            if iclr.year[num] < 2023:\n",
    "                score_field = 'rating'\n",
    "            else:\n",
    "                score_field = 'recommendation'\n",
    "            if score_field in json['notes'][i]['content']:\n",
    "                score = int(json['notes'][i]['content'][score_field].split(':')[0])\n",
    "                scores.append(score)\n",
    "        iclr.at[num, 'scores'] = scores\n",
    "\n",
    "print('')\n",
    "\n",
    "iclr.to_pickle(data_path / f'{conference}_{year}.pickle.zip')"
   ]
  },
  {
   "cell_type": "code",
   "execution_count": null,
   "metadata": {},
   "outputs": [],
   "source": []
  },
  {
   "cell_type": "code",
   "execution_count": null,
   "metadata": {},
   "outputs": [],
   "source": []
  },
  {
   "cell_type": "code",
   "execution_count": null,
   "metadata": {},
   "outputs": [],
   "source": []
  },
  {
   "cell_type": "code",
   "execution_count": null,
   "metadata": {},
   "outputs": [],
   "source": []
  },
  {
   "cell_type": "code",
   "execution_count": null,
   "metadata": {},
   "outputs": [],
   "source": []
  },
  {
   "cell_type": "code",
   "execution_count": null,
   "metadata": {},
   "outputs": [],
   "source": []
  }
 ],
 "metadata": {
  "kernelspec": {
   "display_name": "papers-visualization-wtOSKkz2-py3.11",
   "language": "python",
   "name": "python3"
  },
  "language_info": {
   "codemirror_mode": {
    "name": "ipython",
    "version": 3
   },
   "file_extension": ".py",
   "mimetype": "text/x-python",
   "name": "python",
   "nbconvert_exporter": "python",
   "pygments_lexer": "ipython3",
   "version": "3.11.3"
  },
  "orig_nbformat": 4
 },
 "nbformat": 4,
 "nbformat_minor": 2
}
